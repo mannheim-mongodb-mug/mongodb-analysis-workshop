{
 "cells": [
  {
   "cell_type": "code",
   "execution_count": null,
   "metadata": {
    "collapsed": false
   },
   "outputs": [],
   "source": [
    "import pymongo\n",
    "from pprint import pprint"
   ]
  },
  {
   "cell_type": "markdown",
   "metadata": {},
   "source": [
    "## Database Connection"
   ]
  },
  {
   "cell_type": "code",
   "execution_count": null,
   "metadata": {
    "collapsed": true
   },
   "outputs": [],
   "source": [
    "db = pymongo.MongoClient()"
   ]
  },
  {
   "cell_type": "markdown",
   "metadata": {},
   "source": [
    "## Inspect"
   ]
  },
  {
   "cell_type": "code",
   "execution_count": null,
   "metadata": {
    "collapsed": false
   },
   "outputs": [],
   "source": [
    "db.database_names()"
   ]
  },
  {
   "cell_type": "code",
   "execution_count": null,
   "metadata": {
    "collapsed": false
   },
   "outputs": [],
   "source": [
    "db['test'].collection_names()"
   ]
  },
  {
   "cell_type": "code",
   "execution_count": null,
   "metadata": {
    "collapsed": false
   },
   "outputs": [],
   "source": [
    "# db.collection.findOne()\n",
    "pprint(\n",
    "    db['test']['zips'].find_one()\n",
    ")"
   ]
  },
  {
   "cell_type": "code",
   "execution_count": null,
   "metadata": {
    "collapsed": false
   },
   "outputs": [],
   "source": [
    "# db.collection.count()\n",
    "db['test']['zips'].count()"
   ]
  },
  {
   "cell_type": "markdown",
   "metadata": {},
   "source": [
    "## Aggregation Pipeline"
   ]
  },
  {
   "cell_type": "markdown",
   "metadata": {},
   "source": [
    "### stage operators I"
   ]
  },
  {
   "cell_type": "code",
   "execution_count": null,
   "metadata": {
    "collapsed": false,
    "scrolled": false
   },
   "outputs": [],
   "source": [
    "pipeline = [\n",
    "    {\"$match\": {\"city\": \"NEW YORK\"}},\n",
    "]\n",
    "\n",
    "result = db['test']['zips'].aggregate(pipeline)\n",
    "pprint(list(result)[:5])"
   ]
  },
  {
   "cell_type": "code",
   "execution_count": null,
   "metadata": {
    "collapsed": false,
    "scrolled": true
   },
   "outputs": [],
   "source": [
    "pipeline = [\n",
    "    {\"$match\": {\"city\": \"NEW YORK\"}},\n",
    "    {\"$project\": {\"city\": 1, \"_id\": 1}}\n",
    "]\n",
    "\n",
    "result = db['test']['zips'].aggregate(pipeline)\n",
    "pprint(list(result)[:3])"
   ]
  },
  {
   "cell_type": "markdown",
   "metadata": {},
   "source": [
    "### stage operators II"
   ]
  },
  {
   "cell_type": "code",
   "execution_count": null,
   "metadata": {
    "collapsed": false
   },
   "outputs": [],
   "source": [
    "pipeline = [\n",
    "    {\"$match\": {\"city\": \"NEW YORK\"}},\n",
    "    {\"$project\": {\"city\": 1, \"_id\": 1}},\n",
    "    {\"$sort\": {'_id': -1}}\n",
    "]\n",
    "\n",
    "result = db['test']['zips'].aggregate(pipeline)\n",
    "pprint(list(result)[:3])"
   ]
  },
  {
   "cell_type": "code",
   "execution_count": null,
   "metadata": {
    "collapsed": false
   },
   "outputs": [],
   "source": [
    "from bson.son import SON\n",
    "pipeline = [\n",
    "    {\"$match\": {\"city\": \"NEW YORK\"}},\n",
    "    {\"$project\": {\"city\": 1, \"_id\": 1, \"pop\": 1}},\n",
    "    # python only\n",
    "    {\"$sort\": SON([(\"_id\", 1),(\"pop\", -1)])}\n",
    "#    {\"$sort\": SON([(\"pop\", -1), (\"_id\", 1)])}\n",
    "]\n",
    "\n",
    "result = db['test']['zips'].aggregate(pipeline)\n",
    "pprint(list(result)[:3])"
   ]
  },
  {
   "cell_type": "code",
   "execution_count": null,
   "metadata": {
    "collapsed": false
   },
   "outputs": [],
   "source": [
    "pipeline = [\n",
    "    {\"$match\": {\"city\": \"NEW YORK\"}},\n",
    "    {\"$project\": {\"city\": 1, \"_id\": 1}},\n",
    "    {\"$limit\": 2}\n",
    "]\n",
    "\n",
    "result = db['test']['zips'].aggregate(pipeline)\n",
    "pprint(list(result))"
   ]
  },
  {
   "cell_type": "code",
   "execution_count": null,
   "metadata": {
    "collapsed": false
   },
   "outputs": [],
   "source": [
    "pipeline = [\n",
    "    {\"$match\": {\"city\": \"NEW YORK\"}},\n",
    "    {\"$project\": {\"city\": 1, \"_id\": 1}},\n",
    "    {\"$skip\": 18},\n",
    "    {\"$limit\": 2},\n",
    "]\n",
    "\n",
    "result = db['test']['zips'].aggregate(pipeline)\n",
    "pprint(list(result))"
   ]
  },
  {
   "cell_type": "markdown",
   "metadata": {},
   "source": [
    "### stage operators III"
   ]
  },
  {
   "cell_type": "code",
   "execution_count": null,
   "metadata": {
    "collapsed": false
   },
   "outputs": [],
   "source": [
    "pipeline = [\n",
    "    {\"$group\": {\"_id\": \"$state\",\n",
    "               \"totalPop\": {\"$sum\": \"$pop\"}}},\n",
    "    {\"$match\": {\"totalPop\": {\"$gt\": 10000000}}},\n",
    "]\n",
    "\n",
    "result = db['test']['zips'].aggregate(pipeline)\n",
    "pprint(list(result))"
   ]
  },
  {
   "cell_type": "code",
   "execution_count": null,
   "metadata": {
    "collapsed": false
   },
   "outputs": [],
   "source": [
    "\"\"\"\n",
    "SELECT state, SUM(pop) AS totalPop\n",
    "FROM zipcodes\n",
    "GROUP BY state\n",
    "HAVING totalPop >= (10000000)\n",
    "\"\"\""
   ]
  },
  {
   "cell_type": "code",
   "execution_count": null,
   "metadata": {
    "collapsed": false
   },
   "outputs": [],
   "source": [
    "pipeline = [\n",
    "    {\"$group\": {\"_id\": \"$state\",\n",
    "               \"totalPop\": {\"$sum\": \"$pop\"}}},\n",
    "    {\"$group\": {\"_id\": None,\n",
    "               \"avgPop\": {\"$avg\": \"$totalPop\"}}}\n",
    "]\n",
    "\n",
    "result = db['test']['zips'].aggregate(pipeline)\n",
    "pprint(list(result))"
   ]
  },
  {
   "cell_type": "code",
   "execution_count": null,
   "metadata": {
    "collapsed": false
   },
   "outputs": [],
   "source": [
    "pipeline = [\n",
    "    {\"$group\": {\"_id\": {\"state\": \"$state\", \"city\": \"$city\"},\n",
    "               \"totalCityPop\": {\"$sum\": \"$pop\"}}},\n",
    "    {\"$group\": {\"_id\": \"$_id.city\",\n",
    "               \"avgCityPop\": {\"$avg\": \"$totalCityPop\"}}},\n",
    "    {\"$sort\": {\"avgCityPop\": -1}}\n",
    "]\n",
    "\n",
    "result = db['test']['zips'].aggregate(pipeline)\n",
    "pprint(list(result)[:5])"
   ]
  },
  {
   "cell_type": "code",
   "execution_count": null,
   "metadata": {
    "collapsed": true
   },
   "outputs": [],
   "source": []
  }
 ],
 "metadata": {
  "kernelspec": {
   "display_name": "Python 3",
   "language": "python",
   "name": "python3"
  },
  "language_info": {
   "codemirror_mode": {
    "name": "ipython",
    "version": 3
   },
   "file_extension": ".py",
   "mimetype": "text/x-python",
   "name": "python",
   "nbconvert_exporter": "python",
   "pygments_lexer": "ipython3",
   "version": "3.5.1"
  }
 },
 "nbformat": 4,
 "nbformat_minor": 0
}
